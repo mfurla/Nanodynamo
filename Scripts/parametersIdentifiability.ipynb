{
 "cells": [
  {
   "cell_type": "code",
   "execution_count": 1,
   "id": "e0915605",
   "metadata": {},
   "outputs": [
    {
     "name": "stderr",
     "output_type": "stream",
     "text": [
      "\u001b[32m\u001b[1m    Updating\u001b[22m\u001b[39m registry at `~/.julia/registries/General.toml`\n",
      "\u001b[32m\u001b[1m   Resolving\u001b[22m\u001b[39m package versions...\n",
      "\u001b[32m\u001b[1m  No Changes\u001b[22m\u001b[39m to `~/.julia/environments/v1.8/Project.toml`\n",
      "\u001b[32m\u001b[1m  No Changes\u001b[22m\u001b[39m to `~/.julia/environments/v1.8/Manifest.toml`\n"
     ]
    }
   ],
   "source": [
    "using Pkg\n",
    "Pkg.add(\"StructuralIdentifiability\")"
   ]
  },
  {
   "cell_type": "code",
   "execution_count": 2,
   "id": "c8532132",
   "metadata": {},
   "outputs": [],
   "source": [
    "using SIAN"
   ]
  },
  {
   "cell_type": "markdown",
   "id": "d5e234ab",
   "metadata": {},
   "source": [
    "# Models with polysomal RNA"
   ]
  },
  {
   "cell_type": "code",
   "execution_count": 15,
   "id": "717ca561",
   "metadata": {},
   "outputs": [
    {
     "name": "stderr",
     "output_type": "stream",
     "text": [
      "┌ Info: Summary of the model:\n",
      "└ @ SIAN /Users/valeria/.julia/packages/SIAN/Ao4lL/src/ODE.jl:189\n",
      "┌ Info: State variables: [x1, x2, x3, x4, x5, x6]\n",
      "└ @ SIAN /Users/valeria/.julia/packages/SIAN/Ao4lL/src/ODE.jl:190\n",
      "┌ Info: Parameter: [k1, k2, k4, k3, k5, k6, k7, k8, k10]\n",
      "└ @ SIAN /Users/valeria/.julia/packages/SIAN/Ao4lL/src/ODE.jl:191\n",
      "┌ Info: Inputs: []\n",
      "└ @ SIAN /Users/valeria/.julia/packages/SIAN/Ao4lL/src/ODE.jl:192\n",
      "┌ Info: Outputs: [y1, y2, y3, y4, y5, y6]\n",
      "└ @ SIAN /Users/valeria/.julia/packages/SIAN/Ao4lL/src/ODE.jl:193\n",
      "┌ Info: Solving the problem\n",
      "└ @ SIAN /Users/valeria/.julia/packages/SIAN/Ao4lL/src/SIAN.jl:53\n",
      "┌ Info: Constructing the maximal system\n",
      "└ @ SIAN /Users/valeria/.julia/packages/SIAN/Ao4lL/src/SIAN.jl:62\n",
      "┌ Info: Truncating\n",
      "└ @ SIAN /Users/valeria/.julia/packages/SIAN/Ao4lL/src/SIAN.jl:93\n",
      "┌ Info: Assessing local identifiability\n",
      "└ @ SIAN /Users/valeria/.julia/packages/SIAN/Ao4lL/src/SIAN.jl:156\n",
      "┌ Info: Locally identifiable parameters: [k1, k2, k4, k3, k5, k6, k7, k8, k10, x1, x3, x2, x4, x5, x6]\n",
      "└ @ SIAN /Users/valeria/.julia/packages/SIAN/Ao4lL/src/SIAN.jl:195\n",
      "┌ Info: Not identifiable parameters:     []\n",
      "└ @ SIAN /Users/valeria/.julia/packages/SIAN/Ao4lL/src/SIAN.jl:196\n",
      "┌ Info: Randomizing\n",
      "└ @ SIAN /Users/valeria/.julia/packages/SIAN/Ao4lL/src/SIAN.jl:208\n",
      "┌ Info: GB computation\n",
      "└ @ SIAN /Users/valeria/.julia/packages/SIAN/Ao4lL/src/SIAN.jl:253\n",
      "┌ Info: Remainder computation\n",
      "└ @ SIAN /Users/valeria/.julia/packages/SIAN/Ao4lL/src/SIAN.jl:269\n",
      "┌ Info: === Summary ===\n",
      "└ @ SIAN /Users/valeria/.julia/packages/SIAN/Ao4lL/src/SIAN.jl:296\n",
      "┌ Info: Globally identifiable parameters:                 [x4, k4, x1, x2, k10, x6, k1, k5, k6, k7, k2, k3, x3, x5, k8]\n",
      "└ @ SIAN /Users/valeria/.julia/packages/SIAN/Ao4lL/src/SIAN.jl:297\n",
      "┌ Info: Locally but not globally identifiable parameters: []\n",
      "└ @ SIAN /Users/valeria/.julia/packages/SIAN/Ao4lL/src/SIAN.jl:298\n",
      "┌ Info: Not identifiable parameters:                      []\n",
      "└ @ SIAN /Users/valeria/.julia/packages/SIAN/Ao4lL/src/SIAN.jl:299\n",
      "┌ Info: ===============\n",
      "└ @ SIAN /Users/valeria/.julia/packages/SIAN/Ao4lL/src/SIAN.jl:300\n"
     ]
    }
   ],
   "source": [
    "#Full model \n",
    "ode = @ODEmodel(\n",
    "    x1'(t)=k1 - (k2+k4)*x1(t),\n",
    "    x2'(t)=k2*x1(t) - k3*x2(t),\n",
    "    x3'(t)=k4*x1(t)-k5*x3(t),\n",
    "    x4'(t)=k3*x2(t)+k5*x3(t)-k6*x4(t),\n",
    "    x5'(t)=k6*x4(t)-(k7+k8)*x5(t),\n",
    "    x6'(t)=k7*x5(t)-k10*x6(t),\n",
    "    y1(t)=x1(t), #chp\n",
    "    y2(t)=x2(t), #chm\n",
    "    y3(t)=x3(t), #np\n",
    "    y4(t)=x4(t), #nm\n",
    "    y5(t)=x5(t), #c\n",
    "    y6(t)=x6(t)  #p\n",
    ");\n",
    "output = identifiability_ode(ode, get_parameters(ode));"
   ]
  },
  {
   "cell_type": "code",
   "execution_count": 23,
   "id": "a83ba496",
   "metadata": {},
   "outputs": [
    {
     "name": "stderr",
     "output_type": "stream",
     "text": [
      "┌ Info: Summary of the model:\n",
      "└ @ SIAN /Users/valeria/.julia/packages/SIAN/Ao4lL/src/ODE.jl:189\n",
      "┌ Info: State variables: [x1, x2, x3, x4, x5, x6]\n",
      "└ @ SIAN /Users/valeria/.julia/packages/SIAN/Ao4lL/src/ODE.jl:190\n",
      "┌ Info: Parameter: [k1, k2, k4, k3, k5, k6, k9, k7, k8, k10]\n",
      "└ @ SIAN /Users/valeria/.julia/packages/SIAN/Ao4lL/src/ODE.jl:191\n",
      "┌ Info: Inputs: []\n",
      "└ @ SIAN /Users/valeria/.julia/packages/SIAN/Ao4lL/src/ODE.jl:192\n",
      "┌ Info: Outputs: [y1, y2, y3, y4, y5, y6]\n",
      "└ @ SIAN /Users/valeria/.julia/packages/SIAN/Ao4lL/src/ODE.jl:193\n",
      "┌ Info: Solving the problem\n",
      "└ @ SIAN /Users/valeria/.julia/packages/SIAN/Ao4lL/src/SIAN.jl:53\n",
      "┌ Info: Constructing the maximal system\n",
      "└ @ SIAN /Users/valeria/.julia/packages/SIAN/Ao4lL/src/SIAN.jl:62\n",
      "┌ Info: Truncating\n",
      "└ @ SIAN /Users/valeria/.julia/packages/SIAN/Ao4lL/src/SIAN.jl:93\n",
      "┌ Info: Assessing local identifiability\n",
      "└ @ SIAN /Users/valeria/.julia/packages/SIAN/Ao4lL/src/SIAN.jl:156\n",
      "┌ Info: Locally identifiable parameters: [k1, k2, k4, k3, k5, k6, k9, k7, k8, k10, x1, x4, x5, x3, x6, x2]\n",
      "└ @ SIAN /Users/valeria/.julia/packages/SIAN/Ao4lL/src/SIAN.jl:195\n",
      "┌ Info: Not identifiable parameters:     []\n",
      "└ @ SIAN /Users/valeria/.julia/packages/SIAN/Ao4lL/src/SIAN.jl:196\n",
      "┌ Info: Randomizing\n",
      "└ @ SIAN /Users/valeria/.julia/packages/SIAN/Ao4lL/src/SIAN.jl:208\n",
      "┌ Info: GB computation\n",
      "└ @ SIAN /Users/valeria/.julia/packages/SIAN/Ao4lL/src/SIAN.jl:253\n",
      "┌ Info: Remainder computation\n",
      "└ @ SIAN /Users/valeria/.julia/packages/SIAN/Ao4lL/src/SIAN.jl:269\n",
      "┌ Info: === Summary ===\n",
      "└ @ SIAN /Users/valeria/.julia/packages/SIAN/Ao4lL/src/SIAN.jl:296\n",
      "┌ Info: Globally identifiable parameters:                 [x1, k9, k5, x4, k2, x6, k8, k1, k3, x2, k10, x5, x3, k6, k4, k7]\n",
      "└ @ SIAN /Users/valeria/.julia/packages/SIAN/Ao4lL/src/SIAN.jl:297\n",
      "┌ Info: Locally but not globally identifiable parameters: []\n",
      "└ @ SIAN /Users/valeria/.julia/packages/SIAN/Ao4lL/src/SIAN.jl:298\n",
      "┌ Info: Not identifiable parameters:                      []\n",
      "└ @ SIAN /Users/valeria/.julia/packages/SIAN/Ao4lL/src/SIAN.jl:299\n",
      "┌ Info: ===============\n",
      "└ @ SIAN /Users/valeria/.julia/packages/SIAN/Ao4lL/src/SIAN.jl:300\n"
     ]
    }
   ],
   "source": [
    "#Full model with nuclear degradation on nucleoplasmic mature RNA\n",
    "ode = @ODEmodel(\n",
    "    x1'(t)=k1 - (k2+k4)*x1(t),\n",
    "    x2'(t)=k2*x1(t) - k3*x2(t),\n",
    "    x3'(t)=k4*x1(t)-k5*x3(t),\n",
    "    x4'(t)=k3*x2(t)+k5*x3(t)-(k6+k9)*x4(t),\n",
    "    x5'(t)=k6*x4(t)-(k7+k8)*x5(t),\n",
    "    x6'(t)=k7*x5(t)-k10*x6(t),\n",
    "    y1(t)=x1(t), #chp\n",
    "    y2(t)=x2(t), #chm\n",
    "    y3(t)=x3(t), #np\n",
    "    y4(t)=x4(t), #nm\n",
    "    y5(t)=x5(t), #c\n",
    "    y6(t)=x6(t)  #p\n",
    ");\n",
    "output = identifiability_ode(ode, get_parameters(ode));"
   ]
  },
  {
   "cell_type": "code",
   "execution_count": null,
   "id": "90c479e0",
   "metadata": {},
   "outputs": [],
   "source": [
    "#Full model with nuclear degradation on nucleoplasmic premature RNA\n",
    "ode = @ODEmodel(\n",
    "    x1'(t)=k1 - (k2+k4)*x1(t),\n",
    "    x2'(t)=k2*x1(t) - k3*x2(t),\n",
    "    x3'(t)=k4*x1(t)-(k5+k9)*x3(t),\n",
    "    x4'(t)=k3*x2(t)+k5*x3(t)-k6*x4(t),\n",
    "    x5'(t)=k6*x4(t)-(k7+k8)*x5(t),\n",
    "    x6'(t)=k7*x5(t)-k10*x6(t),\n",
    "    y1(t)=x1(t), #chp\n",
    "    y2(t)=x2(t), #chm\n",
    "    y3(t)=x3(t), #np\n",
    "    y4(t)=x4(t), #nm\n",
    "    y5(t)=x5(t), #c\n",
    "    y6(t)=x6(t)  #p\n",
    ");\n",
    "output = identifiability_ode(ode, get_parameters(ode));"
   ]
  },
  {
   "cell_type": "code",
   "execution_count": 24,
   "id": "ba2ba3b8",
   "metadata": {},
   "outputs": [
    {
     "name": "stderr",
     "output_type": "stream",
     "text": [
      "┌ Info: Summary of the model:\n",
      "└ @ SIAN /Users/valeria/.julia/packages/SIAN/Ao4lL/src/ODE.jl:189\n",
      "┌ Info: State variables: [x1, x2, x3, x4, x5]\n",
      "└ @ SIAN /Users/valeria/.julia/packages/SIAN/Ao4lL/src/ODE.jl:190\n",
      "┌ Info: Parameter: [k1, k2, k3, k6, k7, k8, k10]\n",
      "└ @ SIAN /Users/valeria/.julia/packages/SIAN/Ao4lL/src/ODE.jl:191\n",
      "┌ Info: Inputs: []\n",
      "└ @ SIAN /Users/valeria/.julia/packages/SIAN/Ao4lL/src/ODE.jl:192\n",
      "┌ Info: Outputs: [y1, y2, y3, y4, y5]\n",
      "└ @ SIAN /Users/valeria/.julia/packages/SIAN/Ao4lL/src/ODE.jl:193\n",
      "┌ Info: Solving the problem\n",
      "└ @ SIAN /Users/valeria/.julia/packages/SIAN/Ao4lL/src/SIAN.jl:53\n",
      "┌ Info: Constructing the maximal system\n",
      "└ @ SIAN /Users/valeria/.julia/packages/SIAN/Ao4lL/src/SIAN.jl:62\n",
      "┌ Info: Truncating\n",
      "└ @ SIAN /Users/valeria/.julia/packages/SIAN/Ao4lL/src/SIAN.jl:93\n",
      "┌ Info: Assessing local identifiability\n",
      "└ @ SIAN /Users/valeria/.julia/packages/SIAN/Ao4lL/src/SIAN.jl:156\n",
      "┌ Info: Locally identifiable parameters: [k1, k2, k3, k6, k7, k8, k10, x5, x2, x4, x3, x1]\n",
      "└ @ SIAN /Users/valeria/.julia/packages/SIAN/Ao4lL/src/SIAN.jl:195\n",
      "┌ Info: Not identifiable parameters:     []\n",
      "└ @ SIAN /Users/valeria/.julia/packages/SIAN/Ao4lL/src/SIAN.jl:196\n",
      "┌ Info: Randomizing\n",
      "└ @ SIAN /Users/valeria/.julia/packages/SIAN/Ao4lL/src/SIAN.jl:208\n",
      "┌ Info: GB computation\n",
      "└ @ SIAN /Users/valeria/.julia/packages/SIAN/Ao4lL/src/SIAN.jl:253\n",
      "┌ Info: Remainder computation\n",
      "└ @ SIAN /Users/valeria/.julia/packages/SIAN/Ao4lL/src/SIAN.jl:269\n",
      "┌ Info: === Summary ===\n",
      "└ @ SIAN /Users/valeria/.julia/packages/SIAN/Ao4lL/src/SIAN.jl:296\n",
      "┌ Info: Globally identifiable parameters:                 [x2, k10, k2, x3, k6, k7, k1, k8, k3, x5, x4, x1]\n",
      "└ @ SIAN /Users/valeria/.julia/packages/SIAN/Ao4lL/src/SIAN.jl:297\n",
      "┌ Info: Locally but not globally identifiable parameters: []\n",
      "└ @ SIAN /Users/valeria/.julia/packages/SIAN/Ao4lL/src/SIAN.jl:298\n",
      "┌ Info: Not identifiable parameters:                      []\n",
      "└ @ SIAN /Users/valeria/.julia/packages/SIAN/Ao4lL/src/SIAN.jl:299\n",
      "┌ Info: ===============\n",
      "└ @ SIAN /Users/valeria/.julia/packages/SIAN/Ao4lL/src/SIAN.jl:300\n"
     ]
    }
   ],
   "source": [
    "#Model without nucleoplasmic premature RNA\n",
    "ode = @ODEmodel(\n",
    "    x1'(t)=k1 - (k2)*x1(t),\n",
    "    x2'(t)=k2*x1(t) - k3*x2(t),\n",
    "    x3'(t)=k3*x2(t)-k6*x3(t),\n",
    "    x4'(t)=k6*x3(t)-(k7+k8)*x4(t),\n",
    "    x5'(t)=k7*x4(t)-k10*x5(t),\n",
    "    y1(t)=x1(t),   #chp\n",
    "    y2(t)=x2(t),   #chm\n",
    "    y3(t)=x3(t),   #nm\n",
    "    y4(t)= x4(t),  #c\n",
    "    y5(t)=x5(t)    #p\n",
    ");\n",
    "output = identifiability_ode(ode, get_parameters(ode));"
   ]
  },
  {
   "cell_type": "code",
   "execution_count": 25,
   "id": "10cbf30c",
   "metadata": {},
   "outputs": [
    {
     "name": "stderr",
     "output_type": "stream",
     "text": [
      "┌ Info: Summary of the model:\n",
      "└ @ SIAN /Users/valeria/.julia/packages/SIAN/Ao4lL/src/ODE.jl:189\n",
      "┌ Info: State variables: [x2, x3, x4, x5]\n",
      "└ @ SIAN /Users/valeria/.julia/packages/SIAN/Ao4lL/src/ODE.jl:190\n",
      "┌ Info: Parameter: [k1, k3, k6, k7, k8, k10]\n",
      "└ @ SIAN /Users/valeria/.julia/packages/SIAN/Ao4lL/src/ODE.jl:191\n",
      "┌ Info: Inputs: []\n",
      "└ @ SIAN /Users/valeria/.julia/packages/SIAN/Ao4lL/src/ODE.jl:192\n",
      "┌ Info: Outputs: [y2, y3, y4, y5]\n",
      "└ @ SIAN /Users/valeria/.julia/packages/SIAN/Ao4lL/src/ODE.jl:193\n",
      "┌ Info: Solving the problem\n",
      "└ @ SIAN /Users/valeria/.julia/packages/SIAN/Ao4lL/src/SIAN.jl:53\n",
      "┌ Info: Constructing the maximal system\n",
      "└ @ SIAN /Users/valeria/.julia/packages/SIAN/Ao4lL/src/SIAN.jl:62\n",
      "┌ Info: Truncating\n",
      "└ @ SIAN /Users/valeria/.julia/packages/SIAN/Ao4lL/src/SIAN.jl:93\n",
      "┌ Info: Assessing local identifiability\n",
      "└ @ SIAN /Users/valeria/.julia/packages/SIAN/Ao4lL/src/SIAN.jl:156\n",
      "┌ Info: Locally identifiable parameters: [k1, k3, k6, k7, k8, k10, x4, x2, x3, x5]\n",
      "└ @ SIAN /Users/valeria/.julia/packages/SIAN/Ao4lL/src/SIAN.jl:195\n",
      "┌ Info: Not identifiable parameters:     []\n",
      "└ @ SIAN /Users/valeria/.julia/packages/SIAN/Ao4lL/src/SIAN.jl:196\n",
      "┌ Info: Randomizing\n",
      "└ @ SIAN /Users/valeria/.julia/packages/SIAN/Ao4lL/src/SIAN.jl:208\n",
      "┌ Info: GB computation\n",
      "└ @ SIAN /Users/valeria/.julia/packages/SIAN/Ao4lL/src/SIAN.jl:253\n",
      "┌ Info: Remainder computation\n",
      "└ @ SIAN /Users/valeria/.julia/packages/SIAN/Ao4lL/src/SIAN.jl:269\n",
      "┌ Info: === Summary ===\n",
      "└ @ SIAN /Users/valeria/.julia/packages/SIAN/Ao4lL/src/SIAN.jl:296\n",
      "┌ Info: Globally identifiable parameters:                 [x5, k1, k3, k7, x4, x2, k10, k6, x3, k8]\n",
      "└ @ SIAN /Users/valeria/.julia/packages/SIAN/Ao4lL/src/SIAN.jl:297\n",
      "┌ Info: Locally but not globally identifiable parameters: []\n",
      "└ @ SIAN /Users/valeria/.julia/packages/SIAN/Ao4lL/src/SIAN.jl:298\n",
      "┌ Info: Not identifiable parameters:                      []\n",
      "└ @ SIAN /Users/valeria/.julia/packages/SIAN/Ao4lL/src/SIAN.jl:299\n",
      "┌ Info: ===============\n",
      "└ @ SIAN /Users/valeria/.julia/packages/SIAN/Ao4lL/src/SIAN.jl:300\n"
     ]
    }
   ],
   "source": [
    "#Model without premature RNA\n",
    "ode = @ODEmodel(\n",
    "    x2'(t)=k1 - k3*x2(t),\n",
    "    x3'(t)=k3*x2(t)-k6*x3(t),\n",
    "    x4'(t)=k6*x3(t)-(k7+k8)*x4(t),\n",
    "    x5'(t)=k7*x4(t)-k10*x5(t),\n",
    "    y2(t)=x2(t), #chm\n",
    "    y3(t)=x3(t), #nm\n",
    "    y4(t)=x4(t), #c\n",
    "    y5(t)=x5(t)  #p\n",
    ");\n",
    "output = identifiability_ode(ode, get_parameters(ode));"
   ]
  },
  {
   "cell_type": "markdown",
   "id": "0504eabf",
   "metadata": {},
   "source": [
    "# Models without polysomal RNA"
   ]
  },
  {
   "cell_type": "code",
   "execution_count": null,
   "id": "ad0aa6ac",
   "metadata": {},
   "outputs": [],
   "source": [
    "#Full model \n",
    "ode = @ODEmodel(\n",
    "    x1'(t)=k1 - (k2+k4)*x1(t),\n",
    "    x2'(t)=k2*x1(t) - k3*x2(t),\n",
    "    x3'(t)=k4*x1(t)-k5*x3(t),\n",
    "    x4'(t)=k3*x2(t)+k5*x3(t)-k6*x4(t),\n",
    "    x5'(t)=k6*x4(t)-k8*x5(t),\n",
    "    y1(t)=x1(t), #chp\n",
    "    y2(t)=x2(t), #chm\n",
    "    y3(t)=x3(t), #np\n",
    "    y4(t)=x4(t), #nm\n",
    "    y5(t)=x5(t)  #c\n",
    ");\n",
    "output = identifiability_ode(ode, get_parameters(ode));"
   ]
  },
  {
   "cell_type": "code",
   "execution_count": null,
   "id": "f0eea8fa",
   "metadata": {},
   "outputs": [],
   "source": [
    "#Model without nucleoplasmic premature RNA\n",
    "ode = @ODEmodel(\n",
    "    x1'(t)=k1 - (k2)*x1(t),\n",
    "    x2'(t)=k2*x1(t) - k3*x2(t),\n",
    "    x3'(t)=k3*x2(t)-k6*x3(t),\n",
    "    x4'(t)=k6*x3(t)-k8*x4(t),\n",
    "    y1(t)=x1(t), #chp\n",
    "    y2(t)=x2(t), #chm\n",
    "    y3(t)=x3(t), #nm\n",
    "    y4(t)= x4(t) #c\n",
    ");\n",
    "output = identifiability_ode(ode, get_parameters(ode));"
   ]
  },
  {
   "cell_type": "code",
   "execution_count": null,
   "id": "9a7f7e66",
   "metadata": {},
   "outputs": [],
   "source": [
    "#Model without premature RNA\n",
    "ode = @ODEmodel(\n",
    "    x2'(t)=k1 - k3*x2(t),\n",
    "    x3'(t)=k3*x2(t)-k6*x3(t),\n",
    "    x4'(t)=k6*x3(t)-k8*x4(t),\n",
    "    y2(t)=x2(t), #chm\n",
    "    y3(t)=x3(t), #nm\n",
    "    y4(t)=x4(t)  #c\n",
    ");\n",
    "output = identifiability_ode(ode, get_parameters(ode));"
   ]
  }
 ],
 "metadata": {
  "kernelspec": {
   "display_name": "Julia 1.8.2",
   "language": "julia",
   "name": "julia-1.8"
  },
  "language_info": {
   "file_extension": ".jl",
   "mimetype": "application/julia",
   "name": "julia",
   "version": "1.8.2"
  }
 },
 "nbformat": 4,
 "nbformat_minor": 5
}
